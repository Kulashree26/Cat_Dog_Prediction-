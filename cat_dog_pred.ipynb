{
 "cells": [
  {
   "cell_type": "code",
   "execution_count": 1,
   "id": "a46d08ef",
   "metadata": {},
   "outputs": [],
   "source": [
    "import cv2\n",
    "from tensorflow.keras.models import load_model"
   ]
  },
  {
   "cell_type": "code",
   "execution_count": 2,
   "id": "ee07fefa",
   "metadata": {},
   "outputs": [],
   "source": [
    "model = load_model('cat_dog.h5')"
   ]
  },
  {
   "cell_type": "code",
   "execution_count": 6,
   "id": "b97f6c01",
   "metadata": {},
   "outputs": [],
   "source": [
    "def predict_cat_or_dog(filepath):\n",
    "    img = cv2.imread(filepath)\n",
    "    img = cv2.resize(img, (224,224))/255\n",
    "    yp = model.predict(img.reshape(1,224,224,3)).argmax()\n",
    "    return 'cat' if yp==0 else 'dog'"
   ]
  },
  {
   "cell_type": "code",
   "execution_count": 7,
   "id": "9580d0a9",
   "metadata": {},
   "outputs": [],
   "source": [
    "import os"
   ]
  },
  {
   "cell_type": "code",
   "execution_count": 8,
   "id": "5bc9101a",
   "metadata": {},
   "outputs": [
    {
     "name": "stdout",
     "output_type": "stream",
     "text": [
      "1/1 [==============================] - 0s 297ms/step\n",
      "c1.jpg dog\n",
      "1/1 [==============================] - 0s 36ms/step\n",
      "c2.jpg cat\n",
      "1/1 [==============================] - 0s 47ms/step\n",
      "c3.jpg cat\n",
      "1/1 [==============================] - 0s 55ms/step\n",
      "c4.jpg cat\n",
      "1/1 [==============================] - 0s 46ms/step\n",
      "d1.jpg dog\n",
      "1/1 [==============================] - 0s 35ms/step\n",
      "d2.jpg dog\n",
      "1/1 [==============================] - 0s 32ms/step\n",
      "d3.jpg dog\n",
      "1/1 [==============================] - 0s 58ms/step\n",
      "d4.jpg dog\n"
     ]
    }
   ],
   "source": [
    "filenames = os.listdir('../../dataset/cat_dog/')\n",
    "for filename in filenames:\n",
    "    print(filename, predict_cat_or_dog('../../dataset/cat_dog/'+ filename))"
   ]
  },
  {
   "cell_type": "code",
   "execution_count": null,
   "id": "0f872ee7",
   "metadata": {},
   "outputs": [],
   "source": []
  }
 ],
 "metadata": {
  "kernelspec": {
   "display_name": "Python 3",
   "language": "python",
   "name": "python3"
  },
  "language_info": {
   "codemirror_mode": {
    "name": "ipython",
    "version": 3
   },
   "file_extension": ".py",
   "mimetype": "text/x-python",
   "name": "python",
   "nbconvert_exporter": "python",
   "pygments_lexer": "ipython3",
   "version": "3.8.8"
  }
 },
 "nbformat": 4,
 "nbformat_minor": 5
}
